{
 "cells": [
  {
   "cell_type": "markdown",
   "id": "ea1c02c9",
   "metadata": {},
   "source": [
    "# Accessing Data from Local Files"
   ]
  },
  {
   "cell_type": "code",
   "execution_count": 74,
   "id": "59ab9c3e",
   "metadata": {},
   "outputs": [],
   "source": [
    "# import depndency \n",
    "import pandas as pd"
   ]
  },
  {
   "cell_type": "markdown",
   "id": "a77d57bc",
   "metadata": {},
   "source": [
    "## Reading Data from Excel Files"
   ]
  },
  {
   "cell_type": "code",
   "execution_count": 75,
   "id": "59708cf1",
   "metadata": {},
   "outputs": [
    {
     "data": {
      "text/html": [
       "<div>\n",
       "<style scoped>\n",
       "    .dataframe tbody tr th:only-of-type {\n",
       "        vertical-align: middle;\n",
       "    }\n",
       "\n",
       "    .dataframe tbody tr th {\n",
       "        vertical-align: top;\n",
       "    }\n",
       "\n",
       "    .dataframe thead th {\n",
       "        text-align: right;\n",
       "    }\n",
       "</style>\n",
       "<table border=\"1\" class=\"dataframe\">\n",
       "  <thead>\n",
       "    <tr style=\"text-align: right;\">\n",
       "      <th></th>\n",
       "      <th>Species_No</th>\n",
       "      <th>Petal_width</th>\n",
       "      <th>Petal_length</th>\n",
       "      <th>Sepal_width</th>\n",
       "      <th>Sepal_length</th>\n",
       "      <th>Species_name</th>\n",
       "    </tr>\n",
       "  </thead>\n",
       "  <tbody>\n",
       "    <tr>\n",
       "      <th>0</th>\n",
       "      <td>1</td>\n",
       "      <td>0.2</td>\n",
       "      <td>1.4</td>\n",
       "      <td>3.5</td>\n",
       "      <td>5.1</td>\n",
       "      <td>Setosa</td>\n",
       "    </tr>\n",
       "    <tr>\n",
       "      <th>1</th>\n",
       "      <td>1</td>\n",
       "      <td>0.2</td>\n",
       "      <td>1.4</td>\n",
       "      <td>3.0</td>\n",
       "      <td>4.9</td>\n",
       "      <td>Setosa</td>\n",
       "    </tr>\n",
       "    <tr>\n",
       "      <th>2</th>\n",
       "      <td>1</td>\n",
       "      <td>0.2</td>\n",
       "      <td>1.3</td>\n",
       "      <td>3.2</td>\n",
       "      <td>4.7</td>\n",
       "      <td>Setosa</td>\n",
       "    </tr>\n",
       "    <tr>\n",
       "      <th>3</th>\n",
       "      <td>1</td>\n",
       "      <td>0.2</td>\n",
       "      <td>1.5</td>\n",
       "      <td>3.1</td>\n",
       "      <td>4.6</td>\n",
       "      <td>Setosa</td>\n",
       "    </tr>\n",
       "    <tr>\n",
       "      <th>4</th>\n",
       "      <td>1</td>\n",
       "      <td>0.2</td>\n",
       "      <td>1.4</td>\n",
       "      <td>3.6</td>\n",
       "      <td>5.0</td>\n",
       "      <td>Setosa</td>\n",
       "    </tr>\n",
       "  </tbody>\n",
       "</table>\n",
       "</div>"
      ],
      "text/plain": [
       "   Species_No  Petal_width  Petal_length  Sepal_width  Sepal_length  \\\n",
       "0           1          0.2           1.4          3.5           5.1   \n",
       "1           1          0.2           1.4          3.0           4.9   \n",
       "2           1          0.2           1.3          3.2           4.7   \n",
       "3           1          0.2           1.5          3.1           4.6   \n",
       "4           1          0.2           1.4          3.6           5.0   \n",
       "\n",
       "  Species_name  \n",
       "0       Setosa  \n",
       "1       Setosa  \n",
       "2       Setosa  \n",
       "3       Setosa  \n",
       "4       Setosa  "
      ]
     },
     "execution_count": 75,
     "metadata": {},
     "output_type": "execute_result"
    }
   ],
   "source": [
    "# excel file path\n",
    "excel_file = 'Datasets/iris.xls'\n",
    "# read data from excel file\n",
    "iris_xl_data = pd.read_excel(excel_file, sheet_name='Data')\n",
    "# check first few rows of data\n",
    "iris_xl_data.head()"
   ]
  },
  {
   "cell_type": "markdown",
   "id": "8c32e090",
   "metadata": {},
   "source": [
    "## Reading Data from CSV Files"
   ]
  },
  {
   "cell_type": "code",
   "execution_count": 76,
   "id": "6c6f18ca",
   "metadata": {},
   "outputs": [
    {
     "data": {
      "text/html": [
       "<div>\n",
       "<style scoped>\n",
       "    .dataframe tbody tr th:only-of-type {\n",
       "        vertical-align: middle;\n",
       "    }\n",
       "\n",
       "    .dataframe tbody tr th {\n",
       "        vertical-align: top;\n",
       "    }\n",
       "\n",
       "    .dataframe thead th {\n",
       "        text-align: right;\n",
       "    }\n",
       "</style>\n",
       "<table border=\"1\" class=\"dataframe\">\n",
       "  <thead>\n",
       "    <tr style=\"text-align: right;\">\n",
       "      <th></th>\n",
       "      <th>sepal.length</th>\n",
       "      <th>sepal.width</th>\n",
       "      <th>petal.length</th>\n",
       "      <th>petal.width</th>\n",
       "      <th>variety</th>\n",
       "    </tr>\n",
       "  </thead>\n",
       "  <tbody>\n",
       "    <tr>\n",
       "      <th>0</th>\n",
       "      <td>5.1</td>\n",
       "      <td>3.5</td>\n",
       "      <td>1.4</td>\n",
       "      <td>0.2</td>\n",
       "      <td>Setosa</td>\n",
       "    </tr>\n",
       "    <tr>\n",
       "      <th>1</th>\n",
       "      <td>4.9</td>\n",
       "      <td>3.0</td>\n",
       "      <td>1.4</td>\n",
       "      <td>0.2</td>\n",
       "      <td>Setosa</td>\n",
       "    </tr>\n",
       "    <tr>\n",
       "      <th>2</th>\n",
       "      <td>4.7</td>\n",
       "      <td>3.2</td>\n",
       "      <td>1.3</td>\n",
       "      <td>0.2</td>\n",
       "      <td>Setosa</td>\n",
       "    </tr>\n",
       "    <tr>\n",
       "      <th>3</th>\n",
       "      <td>4.6</td>\n",
       "      <td>3.1</td>\n",
       "      <td>1.5</td>\n",
       "      <td>0.2</td>\n",
       "      <td>Setosa</td>\n",
       "    </tr>\n",
       "    <tr>\n",
       "      <th>4</th>\n",
       "      <td>5.0</td>\n",
       "      <td>3.6</td>\n",
       "      <td>1.4</td>\n",
       "      <td>0.2</td>\n",
       "      <td>Setosa</td>\n",
       "    </tr>\n",
       "  </tbody>\n",
       "</table>\n",
       "</div>"
      ],
      "text/plain": [
       "   sepal.length  sepal.width  petal.length  petal.width variety\n",
       "0           5.1          3.5           1.4          0.2  Setosa\n",
       "1           4.9          3.0           1.4          0.2  Setosa\n",
       "2           4.7          3.2           1.3          0.2  Setosa\n",
       "3           4.6          3.1           1.5          0.2  Setosa\n",
       "4           5.0          3.6           1.4          0.2  Setosa"
      ]
     },
     "execution_count": 76,
     "metadata": {},
     "output_type": "execute_result"
    }
   ],
   "source": [
    "# csv file path\n",
    "csv_file = 'Datasets/iris.csv'\n",
    "# load data from csv file \n",
    "iris_csv_data = pd.read_csv(csv_file)\n",
    "# check first few rows of data\n",
    "iris_csv_data.head()"
   ]
  },
  {
   "cell_type": "markdown",
   "id": "f64487f7",
   "metadata": {},
   "source": [
    "## Reading Data from JSON"
   ]
  },
  {
   "cell_type": "code",
   "execution_count": 77,
   "id": "543451ff",
   "metadata": {},
   "outputs": [
    {
     "data": {
      "text/html": [
       "<div>\n",
       "<style scoped>\n",
       "    .dataframe tbody tr th:only-of-type {\n",
       "        vertical-align: middle;\n",
       "    }\n",
       "\n",
       "    .dataframe tbody tr th {\n",
       "        vertical-align: top;\n",
       "    }\n",
       "\n",
       "    .dataframe thead th {\n",
       "        text-align: right;\n",
       "    }\n",
       "</style>\n",
       "<table border=\"1\" class=\"dataframe\">\n",
       "  <thead>\n",
       "    <tr style=\"text-align: right;\">\n",
       "      <th></th>\n",
       "      <th>sepalLength</th>\n",
       "      <th>sepalWidth</th>\n",
       "      <th>petalLength</th>\n",
       "      <th>petalWidth</th>\n",
       "      <th>species</th>\n",
       "    </tr>\n",
       "  </thead>\n",
       "  <tbody>\n",
       "    <tr>\n",
       "      <th>0</th>\n",
       "      <td>5.1</td>\n",
       "      <td>3.5</td>\n",
       "      <td>1.4</td>\n",
       "      <td>0.2</td>\n",
       "      <td>setosa</td>\n",
       "    </tr>\n",
       "    <tr>\n",
       "      <th>1</th>\n",
       "      <td>4.9</td>\n",
       "      <td>3.0</td>\n",
       "      <td>1.4</td>\n",
       "      <td>0.2</td>\n",
       "      <td>setosa</td>\n",
       "    </tr>\n",
       "    <tr>\n",
       "      <th>2</th>\n",
       "      <td>4.7</td>\n",
       "      <td>3.2</td>\n",
       "      <td>1.3</td>\n",
       "      <td>0.2</td>\n",
       "      <td>setosa</td>\n",
       "    </tr>\n",
       "    <tr>\n",
       "      <th>3</th>\n",
       "      <td>4.6</td>\n",
       "      <td>3.1</td>\n",
       "      <td>1.5</td>\n",
       "      <td>0.2</td>\n",
       "      <td>setosa</td>\n",
       "    </tr>\n",
       "    <tr>\n",
       "      <th>4</th>\n",
       "      <td>5.0</td>\n",
       "      <td>3.6</td>\n",
       "      <td>1.4</td>\n",
       "      <td>0.2</td>\n",
       "      <td>setosa</td>\n",
       "    </tr>\n",
       "  </tbody>\n",
       "</table>\n",
       "</div>"
      ],
      "text/plain": [
       "   sepalLength  sepalWidth  petalLength  petalWidth species\n",
       "0          5.1         3.5          1.4         0.2  setosa\n",
       "1          4.9         3.0          1.4         0.2  setosa\n",
       "2          4.7         3.2          1.3         0.2  setosa\n",
       "3          4.6         3.1          1.5         0.2  setosa\n",
       "4          5.0         3.6          1.4         0.2  setosa"
      ]
     },
     "execution_count": 77,
     "metadata": {},
     "output_type": "execute_result"
    }
   ],
   "source": [
    "# JSON file path\n",
    "json_file = 'Datasets/iris.json'\n",
    "# load data from JSON file\n",
    "iris_json_data = pd.read_json(json_file)\n",
    "# check first few rows of data\n",
    "iris_json_data.head()"
   ]
  },
  {
   "cell_type": "markdown",
   "id": "c2060a48",
   "metadata": {},
   "source": [
    "# Accessing Data From Databases and Warehouses"
   ]
  },
  {
   "cell_type": "markdown",
   "id": "2264971e",
   "metadata": {},
   "source": [
    "## Accessing Data from SQLite DB"
   ]
  },
  {
   "cell_type": "code",
   "execution_count": null,
   "id": "73e589b9",
   "metadata": {},
   "outputs": [],
   "source": [
    "import sqlite3 as sql\n",
    "\n",
    "# create a connection to database\n",
    "conn = sql.connect('/Path_to/database_file.db')\n",
    "\n",
    "# query data form database \n",
    "query = \"SELECT * FROM tablename\"\n",
    "results = cur.execute(query).fetchall()\n",
    "\n",
    "# create a DataFrame from the DB data \n",
    "df = pd.DataFrame(results)\n",
    "\n",
    "# Close the cursor\n",
    "cursor.close()\n"
   ]
  },
  {
   "cell_type": "markdown",
   "id": "7e0e446c",
   "metadata": {},
   "source": [
    "## Acessing Data from PostgreSQL DB"
   ]
  },
  {
   "cell_type": "code",
   "execution_count": null,
   "id": "8a95ad6a",
   "metadata": {},
   "outputs": [],
   "source": [
    "import psycopg2\n",
    "\n",
    "# create a connection to the database \n",
    "conn = psycopg2.connect(\n",
    "  host = \"localhost\",\n",
    "  user = \"yourusername\",\n",
    "  password = \"yourpassword\",\n",
    "  database = \"yourdatabase\"\n",
    ")\n",
    "\n",
    "# select data from DB table \n",
    "query = \"SELECT * FROM tablename\"\n",
    "df = pd.read_sql_query(query, conn)\n",
    "\n",
    "# close connection \n",
    "conn.close()"
   ]
  },
  {
   "cell_type": "markdown",
   "id": "ee49745f",
   "metadata": {},
   "source": [
    "## Acessing Data from MySQL DB "
   ]
  },
  {
   "cell_type": "code",
   "execution_count": null,
   "id": "44d0b3a1",
   "metadata": {},
   "outputs": [],
   "source": [
    "! pip install mysql-connector"
   ]
  },
  {
   "cell_type": "code",
   "execution_count": 11,
   "id": "745ba8dc",
   "metadata": {},
   "outputs": [],
   "source": [
    "# import mysql dependency\n",
    "import mysql.connector\n",
    "\n",
    "# create a connection to the database \n",
    "conn = mysql.connector.connect(\n",
    "  host=\"localhost\",\n",
    "  user=\"yourusername\",\n",
    "  password=\"yourpassword\",\n",
    "  database=\"yourdatabase\"\n",
    ")\n",
    "\n",
    "# select data from DB table \n",
    "query = \"SELECT * FROM tablename\"\n",
    "df = pd.read_sql(query, conn)\n",
    "\n",
    "# close connection \n",
    "conn.close()"
   ]
  },
  {
   "cell_type": "markdown",
   "id": "53f323d9",
   "metadata": {},
   "source": [
    "# Accessing Data with APIs "
   ]
  },
  {
   "cell_type": "markdown",
   "id": "636b9db7",
   "metadata": {},
   "source": [
    "## Accessing Data with APIs without Credentials"
   ]
  },
  {
   "cell_type": "code",
   "execution_count": 78,
   "id": "6b3a0b17",
   "metadata": {},
   "outputs": [
    {
     "data": {
      "text/html": [
       "<div>\n",
       "<style scoped>\n",
       "    .dataframe tbody tr th:only-of-type {\n",
       "        vertical-align: middle;\n",
       "    }\n",
       "\n",
       "    .dataframe tbody tr th {\n",
       "        vertical-align: top;\n",
       "    }\n",
       "\n",
       "    .dataframe thead th {\n",
       "        text-align: right;\n",
       "    }\n",
       "</style>\n",
       "<table border=\"1\" class=\"dataframe\">\n",
       "  <thead>\n",
       "    <tr style=\"text-align: right;\">\n",
       "      <th></th>\n",
       "      <th>Sepal_Length</th>\n",
       "      <th>Sepal_Width</th>\n",
       "      <th>Petal_Length</th>\n",
       "      <th>Petal_Width</th>\n",
       "      <th>Species</th>\n",
       "    </tr>\n",
       "  </thead>\n",
       "  <tbody>\n",
       "    <tr>\n",
       "      <th>0</th>\n",
       "      <td>5.1</td>\n",
       "      <td>3.5</td>\n",
       "      <td>1.4</td>\n",
       "      <td>0.2</td>\n",
       "      <td>Iris-setosa</td>\n",
       "    </tr>\n",
       "    <tr>\n",
       "      <th>1</th>\n",
       "      <td>4.9</td>\n",
       "      <td>3.0</td>\n",
       "      <td>1.4</td>\n",
       "      <td>0.2</td>\n",
       "      <td>Iris-setosa</td>\n",
       "    </tr>\n",
       "    <tr>\n",
       "      <th>2</th>\n",
       "      <td>4.7</td>\n",
       "      <td>3.2</td>\n",
       "      <td>1.3</td>\n",
       "      <td>0.2</td>\n",
       "      <td>Iris-setosa</td>\n",
       "    </tr>\n",
       "    <tr>\n",
       "      <th>3</th>\n",
       "      <td>4.6</td>\n",
       "      <td>3.1</td>\n",
       "      <td>1.5</td>\n",
       "      <td>0.2</td>\n",
       "      <td>Iris-setosa</td>\n",
       "    </tr>\n",
       "    <tr>\n",
       "      <th>4</th>\n",
       "      <td>5.0</td>\n",
       "      <td>3.6</td>\n",
       "      <td>1.4</td>\n",
       "      <td>0.2</td>\n",
       "      <td>Iris-setosa</td>\n",
       "    </tr>\n",
       "  </tbody>\n",
       "</table>\n",
       "</div>"
      ],
      "text/plain": [
       "   Sepal_Length  Sepal_Width  Petal_Length  Petal_Width      Species\n",
       "0           5.1          3.5           1.4          0.2  Iris-setosa\n",
       "1           4.9          3.0           1.4          0.2  Iris-setosa\n",
       "2           4.7          3.2           1.3          0.2  Iris-setosa\n",
       "3           4.6          3.1           1.5          0.2  Iris-setosa\n",
       "4           5.0          3.6           1.4          0.2  Iris-setosa"
      ]
     },
     "execution_count": 78,
     "metadata": {},
     "output_type": "execute_result"
    }
   ],
   "source": [
    "csv_url = 'https://archive.ics.uci.edu/ml/machine-learning-databases/iris/iris.data'\n",
    "iris = pd.read_csv(csv_url, header = None)\n",
    "\n",
    "col_names = ['Sepal_Length','Sepal_Width','Petal_Length','Petal_Width','Species']\n",
    "\n",
    "# read in the dataset from the UCI Machine Learning Repository link and specify column names to use\n",
    "iris =  pd.read_csv(csv_url, names = col_names)\n",
    "\n",
    "# check first few rows of data \n",
    "iris.head()\n"
   ]
  },
  {
   "cell_type": "code",
   "execution_count": 79,
   "id": "471bd06d",
   "metadata": {},
   "outputs": [
    {
     "name": "stdout",
     "output_type": "stream",
     "text": [
      "200\n",
      "[{'sepalLength': 5.1, 'sepalWidth': 3.5, 'petalLength': 1.4, 'petalWidth': 0.2, 'species': 'setosa'}, {'sepalLength': 4.9, 'sepalWidth': 3.0, 'petalLength': 1.4, 'petalWidth': 0.2, 'species': 'setosa'}, {'sepalLength': 4.7, 'sepalWidth': 3.2, 'petalLength': 1.3, 'petalWidth': 0.2, 'species': 'setosa'}, {'sepalLength': 4.6, 'sepalWidth': 3.1, 'petalLength': 1.5, 'petalWidth': 0.2, 'species': 'setosa'}, {'sepalLength': 5.0, 'sepalWidth': 3.6, 'petalLength': 1.4, 'petalWidth': 0.2, 'species': 'setosa'}, {'sepalLength': 5.4, 'sepalWidth': 3.9, 'petalLength': 1.7, 'petalWidth': 0.4, 'species': 'setosa'}, {'sepalLength': 4.6, 'sepalWidth': 3.4, 'petalLength': 1.4, 'petalWidth': 0.3, 'species': 'setosa'}, {'sepalLength': 5.0, 'sepalWidth': 3.4, 'petalLength': 1.5, 'petalWidth': 0.2, 'species': 'setosa'}, {'sepalLength': 4.4, 'sepalWidth': 2.9, 'petalLength': 1.4, 'petalWidth': 0.2, 'species': 'setosa'}, {'sepalLength': 4.9, 'sepalWidth': 3.1, 'petalLength': 1.5, 'petalWidth': 0.1, 'species': 'setosa'}, {'sepalLength': 5.4, 'sepalWidth': 3.7, 'petalLength': 1.5, 'petalWidth': 0.2, 'species': 'setosa'}, {'sepalLength': 4.8, 'sepalWidth': 3.4, 'petalLength': 1.6, 'petalWidth': 0.2, 'species': 'setosa'}, {'sepalLength': 4.8, 'sepalWidth': 3.0, 'petalLength': 1.4, 'petalWidth': 0.1, 'species': 'setosa'}, {'sepalLength': 4.3, 'sepalWidth': 3.0, 'petalLength': 1.1, 'petalWidth': 0.1, 'species': 'setosa'}, {'sepalLength': 5.8, 'sepalWidth': 4.0, 'petalLength': 1.2, 'petalWidth': 0.2, 'species': 'setosa'}, {'sepalLength': 5.7, 'sepalWidth': 4.4, 'petalLength': 1.5, 'petalWidth': 0.4, 'species': 'setosa'}, {'sepalLength': 5.4, 'sepalWidth': 3.9, 'petalLength': 1.3, 'petalWidth': 0.4, 'species': 'setosa'}, {'sepalLength': 5.1, 'sepalWidth': 3.5, 'petalLength': 1.4, 'petalWidth': 0.3, 'species': 'setosa'}, {'sepalLength': 5.7, 'sepalWidth': 3.8, 'petalLength': 1.7, 'petalWidth': 0.3, 'species': 'setosa'}, {'sepalLength': 5.1, 'sepalWidth': 3.8, 'petalLength': 1.5, 'petalWidth': 0.3, 'species': 'setosa'}, {'sepalLength': 5.4, 'sepalWidth': 3.4, 'petalLength': 1.7, 'petalWidth': 0.2, 'species': 'setosa'}, {'sepalLength': 5.1, 'sepalWidth': 3.7, 'petalLength': 1.5, 'petalWidth': 0.4, 'species': 'setosa'}, {'sepalLength': 4.6, 'sepalWidth': 3.6, 'petalLength': 1.0, 'petalWidth': 0.2, 'species': 'setosa'}, {'sepalLength': 5.1, 'sepalWidth': 3.3, 'petalLength': 1.7, 'petalWidth': 0.5, 'species': 'setosa'}, {'sepalLength': 4.8, 'sepalWidth': 3.4, 'petalLength': 1.9, 'petalWidth': 0.2, 'species': 'setosa'}, {'sepalLength': 5.0, 'sepalWidth': 3.0, 'petalLength': 1.6, 'petalWidth': 0.2, 'species': 'setosa'}, {'sepalLength': 5.0, 'sepalWidth': 3.4, 'petalLength': 1.6, 'petalWidth': 0.4, 'species': 'setosa'}, {'sepalLength': 5.2, 'sepalWidth': 3.5, 'petalLength': 1.5, 'petalWidth': 0.2, 'species': 'setosa'}, {'sepalLength': 5.2, 'sepalWidth': 3.4, 'petalLength': 1.4, 'petalWidth': 0.2, 'species': 'setosa'}, {'sepalLength': 4.7, 'sepalWidth': 3.2, 'petalLength': 1.6, 'petalWidth': 0.2, 'species': 'setosa'}, {'sepalLength': 4.8, 'sepalWidth': 3.1, 'petalLength': 1.6, 'petalWidth': 0.2, 'species': 'setosa'}, {'sepalLength': 5.4, 'sepalWidth': 3.4, 'petalLength': 1.5, 'petalWidth': 0.4, 'species': 'setosa'}, {'sepalLength': 5.2, 'sepalWidth': 4.1, 'petalLength': 1.5, 'petalWidth': 0.1, 'species': 'setosa'}, {'sepalLength': 5.5, 'sepalWidth': 4.2, 'petalLength': 1.4, 'petalWidth': 0.2, 'species': 'setosa'}, {'sepalLength': 4.9, 'sepalWidth': 3.1, 'petalLength': 1.5, 'petalWidth': 0.2, 'species': 'setosa'}, {'sepalLength': 5.0, 'sepalWidth': 3.2, 'petalLength': 1.2, 'petalWidth': 0.2, 'species': 'setosa'}, {'sepalLength': 5.5, 'sepalWidth': 3.5, 'petalLength': 1.3, 'petalWidth': 0.2, 'species': 'setosa'}, {'sepalLength': 4.9, 'sepalWidth': 3.6, 'petalLength': 1.4, 'petalWidth': 0.1, 'species': 'setosa'}, {'sepalLength': 4.4, 'sepalWidth': 3.0, 'petalLength': 1.3, 'petalWidth': 0.2, 'species': 'setosa'}, {'sepalLength': 5.1, 'sepalWidth': 3.4, 'petalLength': 1.5, 'petalWidth': 0.2, 'species': 'setosa'}, {'sepalLength': 5.0, 'sepalWidth': 3.5, 'petalLength': 1.3, 'petalWidth': 0.3, 'species': 'setosa'}, {'sepalLength': 4.5, 'sepalWidth': 2.3, 'petalLength': 1.3, 'petalWidth': 0.3, 'species': 'setosa'}, {'sepalLength': 4.4, 'sepalWidth': 3.2, 'petalLength': 1.3, 'petalWidth': 0.2, 'species': 'setosa'}, {'sepalLength': 5.0, 'sepalWidth': 3.5, 'petalLength': 1.6, 'petalWidth': 0.6, 'species': 'setosa'}, {'sepalLength': 5.1, 'sepalWidth': 3.8, 'petalLength': 1.9, 'petalWidth': 0.4, 'species': 'setosa'}, {'sepalLength': 4.8, 'sepalWidth': 3.0, 'petalLength': 1.4, 'petalWidth': 0.3, 'species': 'setosa'}, {'sepalLength': 5.1, 'sepalWidth': 3.8, 'petalLength': 1.6, 'petalWidth': 0.2, 'species': 'setosa'}, {'sepalLength': 4.6, 'sepalWidth': 3.2, 'petalLength': 1.4, 'petalWidth': 0.2, 'species': 'setosa'}, {'sepalLength': 5.3, 'sepalWidth': 3.7, 'petalLength': 1.5, 'petalWidth': 0.2, 'species': 'setosa'}, {'sepalLength': 5.0, 'sepalWidth': 3.3, 'petalLength': 1.4, 'petalWidth': 0.2, 'species': 'setosa'}, {'sepalLength': 7.0, 'sepalWidth': 3.2, 'petalLength': 4.7, 'petalWidth': 1.4, 'species': 'versicolor'}, {'sepalLength': 6.4, 'sepalWidth': 3.2, 'petalLength': 4.5, 'petalWidth': 1.5, 'species': 'versicolor'}, {'sepalLength': 6.9, 'sepalWidth': 3.1, 'petalLength': 4.9, 'petalWidth': 1.5, 'species': 'versicolor'}, {'sepalLength': 5.5, 'sepalWidth': 2.3, 'petalLength': 4.0, 'petalWidth': 1.3, 'species': 'versicolor'}, {'sepalLength': 6.5, 'sepalWidth': 2.8, 'petalLength': 4.6, 'petalWidth': 1.5, 'species': 'versicolor'}, {'sepalLength': 5.7, 'sepalWidth': 2.8, 'petalLength': 4.5, 'petalWidth': 1.3, 'species': 'versicolor'}, {'sepalLength': 6.3, 'sepalWidth': 3.3, 'petalLength': 4.7, 'petalWidth': 1.6, 'species': 'versicolor'}, {'sepalLength': 4.9, 'sepalWidth': 2.4, 'petalLength': 3.3, 'petalWidth': 1.0, 'species': 'versicolor'}, {'sepalLength': 6.6, 'sepalWidth': 2.9, 'petalLength': 4.6, 'petalWidth': 1.3, 'species': 'versicolor'}, {'sepalLength': 5.2, 'sepalWidth': 2.7, 'petalLength': 3.9, 'petalWidth': 1.4, 'species': 'versicolor'}, {'sepalLength': 5.0, 'sepalWidth': 2.0, 'petalLength': 3.5, 'petalWidth': 1.0, 'species': 'versicolor'}, {'sepalLength': 5.9, 'sepalWidth': 3.0, 'petalLength': 4.2, 'petalWidth': 1.5, 'species': 'versicolor'}, {'sepalLength': 6.0, 'sepalWidth': 2.2, 'petalLength': 4.0, 'petalWidth': 1.0, 'species': 'versicolor'}, {'sepalLength': 6.1, 'sepalWidth': 2.9, 'petalLength': 4.7, 'petalWidth': 1.4, 'species': 'versicolor'}, {'sepalLength': 5.6, 'sepalWidth': 2.9, 'petalLength': 3.6, 'petalWidth': 1.3, 'species': 'versicolor'}, {'sepalLength': 6.7, 'sepalWidth': 3.1, 'petalLength': 4.4, 'petalWidth': 1.4, 'species': 'versicolor'}, {'sepalLength': 5.6, 'sepalWidth': 3.0, 'petalLength': 4.5, 'petalWidth': 1.5, 'species': 'versicolor'}, {'sepalLength': 5.8, 'sepalWidth': 2.7, 'petalLength': 4.1, 'petalWidth': 1.0, 'species': 'versicolor'}, {'sepalLength': 6.2, 'sepalWidth': 2.2, 'petalLength': 4.5, 'petalWidth': 1.5, 'species': 'versicolor'}, {'sepalLength': 5.6, 'sepalWidth': 2.5, 'petalLength': 3.9, 'petalWidth': 1.1, 'species': 'versicolor'}, {'sepalLength': 5.9, 'sepalWidth': 3.2, 'petalLength': 4.8, 'petalWidth': 1.8, 'species': 'versicolor'}, {'sepalLength': 6.1, 'sepalWidth': 2.8, 'petalLength': 4.0, 'petalWidth': 1.3, 'species': 'versicolor'}, {'sepalLength': 6.3, 'sepalWidth': 2.5, 'petalLength': 4.9, 'petalWidth': 1.5, 'species': 'versicolor'}, {'sepalLength': 6.1, 'sepalWidth': 2.8, 'petalLength': 4.7, 'petalWidth': 1.2, 'species': 'versicolor'}, {'sepalLength': 6.4, 'sepalWidth': 2.9, 'petalLength': 4.3, 'petalWidth': 1.3, 'species': 'versicolor'}, {'sepalLength': 6.6, 'sepalWidth': 3.0, 'petalLength': 4.4, 'petalWidth': 1.4, 'species': 'versicolor'}, {'sepalLength': 6.8, 'sepalWidth': 2.8, 'petalLength': 4.8, 'petalWidth': 1.4, 'species': 'versicolor'}, {'sepalLength': 6.7, 'sepalWidth': 3.0, 'petalLength': 5.0, 'petalWidth': 1.7, 'species': 'versicolor'}, {'sepalLength': 6.0, 'sepalWidth': 2.9, 'petalLength': 4.5, 'petalWidth': 1.5, 'species': 'versicolor'}, {'sepalLength': 5.7, 'sepalWidth': 2.6, 'petalLength': 3.5, 'petalWidth': 1.0, 'species': 'versicolor'}, {'sepalLength': 5.5, 'sepalWidth': 2.4, 'petalLength': 3.8, 'petalWidth': 1.1, 'species': 'versicolor'}, {'sepalLength': 5.5, 'sepalWidth': 2.4, 'petalLength': 3.7, 'petalWidth': 1.0, 'species': 'versicolor'}, {'sepalLength': 5.8, 'sepalWidth': 2.7, 'petalLength': 3.9, 'petalWidth': 1.2, 'species': 'versicolor'}, {'sepalLength': 6.0, 'sepalWidth': 2.7, 'petalLength': 5.1, 'petalWidth': 1.6, 'species': 'versicolor'}, {'sepalLength': 5.4, 'sepalWidth': 3.0, 'petalLength': 4.5, 'petalWidth': 1.5, 'species': 'versicolor'}, {'sepalLength': 6.0, 'sepalWidth': 3.4, 'petalLength': 4.5, 'petalWidth': 1.6, 'species': 'versicolor'}, {'sepalLength': 6.7, 'sepalWidth': 3.1, 'petalLength': 4.7, 'petalWidth': 1.5, 'species': 'versicolor'}, {'sepalLength': 6.3, 'sepalWidth': 2.3, 'petalLength': 4.4, 'petalWidth': 1.3, 'species': 'versicolor'}, {'sepalLength': 5.6, 'sepalWidth': 3.0, 'petalLength': 4.1, 'petalWidth': 1.3, 'species': 'versicolor'}, {'sepalLength': 5.5, 'sepalWidth': 2.5, 'petalLength': 4.0, 'petalWidth': 1.3, 'species': 'versicolor'}, {'sepalLength': 5.5, 'sepalWidth': 2.6, 'petalLength': 4.4, 'petalWidth': 1.2, 'species': 'versicolor'}, {'sepalLength': 6.1, 'sepalWidth': 3.0, 'petalLength': 4.6, 'petalWidth': 1.4, 'species': 'versicolor'}, {'sepalLength': 5.8, 'sepalWidth': 2.6, 'petalLength': 4.0, 'petalWidth': 1.2, 'species': 'versicolor'}, {'sepalLength': 5.0, 'sepalWidth': 2.3, 'petalLength': 3.3, 'petalWidth': 1.0, 'species': 'versicolor'}, {'sepalLength': 5.6, 'sepalWidth': 2.7, 'petalLength': 4.2, 'petalWidth': 1.3, 'species': 'versicolor'}, {'sepalLength': 5.7, 'sepalWidth': 3.0, 'petalLength': 4.2, 'petalWidth': 1.2, 'species': 'versicolor'}, {'sepalLength': 5.7, 'sepalWidth': 2.9, 'petalLength': 4.2, 'petalWidth': 1.3, 'species': 'versicolor'}, {'sepalLength': 6.2, 'sepalWidth': 2.9, 'petalLength': 4.3, 'petalWidth': 1.3, 'species': 'versicolor'}, {'sepalLength': 5.1, 'sepalWidth': 2.5, 'petalLength': 3.0, 'petalWidth': 1.1, 'species': 'versicolor'}, {'sepalLength': 5.7, 'sepalWidth': 2.8, 'petalLength': 4.1, 'petalWidth': 1.3, 'species': 'versicolor'}, {'sepalLength': 6.3, 'sepalWidth': 3.3, 'petalLength': 6.0, 'petalWidth': 2.5, 'species': 'virginica'}, {'sepalLength': 5.8, 'sepalWidth': 2.7, 'petalLength': 5.1, 'petalWidth': 1.9, 'species': 'virginica'}, {'sepalLength': 7.1, 'sepalWidth': 3.0, 'petalLength': 5.9, 'petalWidth': 2.1, 'species': 'virginica'}, {'sepalLength': 6.3, 'sepalWidth': 2.9, 'petalLength': 5.6, 'petalWidth': 1.8, 'species': 'virginica'}, {'sepalLength': 6.5, 'sepalWidth': 3.0, 'petalLength': 5.8, 'petalWidth': 2.2, 'species': 'virginica'}, {'sepalLength': 7.6, 'sepalWidth': 3.0, 'petalLength': 6.6, 'petalWidth': 2.1, 'species': 'virginica'}, {'sepalLength': 4.9, 'sepalWidth': 2.5, 'petalLength': 4.5, 'petalWidth': 1.7, 'species': 'virginica'}, {'sepalLength': 7.3, 'sepalWidth': 2.9, 'petalLength': 6.3, 'petalWidth': 1.8, 'species': 'virginica'}, {'sepalLength': 6.7, 'sepalWidth': 2.5, 'petalLength': 5.8, 'petalWidth': 1.8, 'species': 'virginica'}, {'sepalLength': 7.2, 'sepalWidth': 3.6, 'petalLength': 6.1, 'petalWidth': 2.5, 'species': 'virginica'}, {'sepalLength': 6.5, 'sepalWidth': 3.2, 'petalLength': 5.1, 'petalWidth': 2.0, 'species': 'virginica'}, {'sepalLength': 6.4, 'sepalWidth': 2.7, 'petalLength': 5.3, 'petalWidth': 1.9, 'species': 'virginica'}, {'sepalLength': 6.8, 'sepalWidth': 3.0, 'petalLength': 5.5, 'petalWidth': 2.1, 'species': 'virginica'}, {'sepalLength': 5.7, 'sepalWidth': 2.5, 'petalLength': 5.0, 'petalWidth': 2.0, 'species': 'virginica'}, {'sepalLength': 5.8, 'sepalWidth': 2.8, 'petalLength': 5.1, 'petalWidth': 2.4, 'species': 'virginica'}, {'sepalLength': 6.4, 'sepalWidth': 3.2, 'petalLength': 5.3, 'petalWidth': 2.3, 'species': 'virginica'}, {'sepalLength': 6.5, 'sepalWidth': 3.0, 'petalLength': 5.5, 'petalWidth': 1.8, 'species': 'virginica'}, {'sepalLength': 7.7, 'sepalWidth': 3.8, 'petalLength': 6.7, 'petalWidth': 2.2, 'species': 'virginica'}, {'sepalLength': 7.7, 'sepalWidth': 2.6, 'petalLength': 6.9, 'petalWidth': 2.3, 'species': 'virginica'}, {'sepalLength': 6.0, 'sepalWidth': 2.2, 'petalLength': 5.0, 'petalWidth': 1.5, 'species': 'virginica'}, {'sepalLength': 6.9, 'sepalWidth': 3.2, 'petalLength': 5.7, 'petalWidth': 2.3, 'species': 'virginica'}, {'sepalLength': 5.6, 'sepalWidth': 2.8, 'petalLength': 4.9, 'petalWidth': 2.0, 'species': 'virginica'}, {'sepalLength': 7.7, 'sepalWidth': 2.8, 'petalLength': 6.7, 'petalWidth': 2.0, 'species': 'virginica'}, {'sepalLength': 6.3, 'sepalWidth': 2.7, 'petalLength': 4.9, 'petalWidth': 1.8, 'species': 'virginica'}, {'sepalLength': 6.7, 'sepalWidth': 3.3, 'petalLength': 5.7, 'petalWidth': 2.1, 'species': 'virginica'}, {'sepalLength': 7.2, 'sepalWidth': 3.2, 'petalLength': 6.0, 'petalWidth': 1.8, 'species': 'virginica'}, {'sepalLength': 6.2, 'sepalWidth': 2.8, 'petalLength': 4.8, 'petalWidth': 1.8, 'species': 'virginica'}, {'sepalLength': 6.1, 'sepalWidth': 3.0, 'petalLength': 4.9, 'petalWidth': 1.8, 'species': 'virginica'}, {'sepalLength': 6.4, 'sepalWidth': 2.8, 'petalLength': 5.6, 'petalWidth': 2.1, 'species': 'virginica'}, {'sepalLength': 7.2, 'sepalWidth': 3.0, 'petalLength': 5.8, 'petalWidth': 1.6, 'species': 'virginica'}, {'sepalLength': 7.4, 'sepalWidth': 2.8, 'petalLength': 6.1, 'petalWidth': 1.9, 'species': 'virginica'}, {'sepalLength': 7.9, 'sepalWidth': 3.8, 'petalLength': 6.4, 'petalWidth': 2.0, 'species': 'virginica'}, {'sepalLength': 6.4, 'sepalWidth': 2.8, 'petalLength': 5.6, 'petalWidth': 2.2, 'species': 'virginica'}, {'sepalLength': 6.3, 'sepalWidth': 2.8, 'petalLength': 5.1, 'petalWidth': 1.5, 'species': 'virginica'}, {'sepalLength': 6.1, 'sepalWidth': 2.6, 'petalLength': 5.6, 'petalWidth': 1.4, 'species': 'virginica'}, {'sepalLength': 7.7, 'sepalWidth': 3.0, 'petalLength': 6.1, 'petalWidth': 2.3, 'species': 'virginica'}, {'sepalLength': 6.3, 'sepalWidth': 3.4, 'petalLength': 5.6, 'petalWidth': 2.4, 'species': 'virginica'}, {'sepalLength': 6.4, 'sepalWidth': 3.1, 'petalLength': 5.5, 'petalWidth': 1.8, 'species': 'virginica'}, {'sepalLength': 6.0, 'sepalWidth': 3.0, 'petalLength': 4.8, 'petalWidth': 1.8, 'species': 'virginica'}, {'sepalLength': 6.9, 'sepalWidth': 3.1, 'petalLength': 5.4, 'petalWidth': 2.1, 'species': 'virginica'}, {'sepalLength': 6.7, 'sepalWidth': 3.1, 'petalLength': 5.6, 'petalWidth': 2.4, 'species': 'virginica'}, {'sepalLength': 6.9, 'sepalWidth': 3.1, 'petalLength': 5.1, 'petalWidth': 2.3, 'species': 'virginica'}, {'sepalLength': 5.8, 'sepalWidth': 2.7, 'petalLength': 5.1, 'petalWidth': 1.9, 'species': 'virginica'}, {'sepalLength': 6.8, 'sepalWidth': 3.2, 'petalLength': 5.9, 'petalWidth': 2.3, 'species': 'virginica'}, {'sepalLength': 6.7, 'sepalWidth': 3.3, 'petalLength': 5.7, 'petalWidth': 2.5, 'species': 'virginica'}, {'sepalLength': 6.7, 'sepalWidth': 3.0, 'petalLength': 5.2, 'petalWidth': 2.3, 'species': 'virginica'}, {'sepalLength': 6.3, 'sepalWidth': 2.5, 'petalLength': 5.0, 'petalWidth': 1.9, 'species': 'virginica'}, {'sepalLength': 6.5, 'sepalWidth': 3.0, 'petalLength': 5.2, 'petalWidth': 2.0, 'species': 'virginica'}, {'sepalLength': 6.2, 'sepalWidth': 3.4, 'petalLength': 5.4, 'petalWidth': 2.3, 'species': 'virginica'}, {'sepalLength': 5.9, 'sepalWidth': 3.0, 'petalLength': 5.1, 'petalWidth': 1.8, 'species': 'virginica'}]\n"
     ]
    },
    {
     "data": {
      "text/html": [
       "<div>\n",
       "<style scoped>\n",
       "    .dataframe tbody tr th:only-of-type {\n",
       "        vertical-align: middle;\n",
       "    }\n",
       "\n",
       "    .dataframe tbody tr th {\n",
       "        vertical-align: top;\n",
       "    }\n",
       "\n",
       "    .dataframe thead th {\n",
       "        text-align: right;\n",
       "    }\n",
       "</style>\n",
       "<table border=\"1\" class=\"dataframe\">\n",
       "  <thead>\n",
       "    <tr style=\"text-align: right;\">\n",
       "      <th></th>\n",
       "      <th>sepalLength</th>\n",
       "      <th>sepalWidth</th>\n",
       "      <th>petalLength</th>\n",
       "      <th>petalWidth</th>\n",
       "      <th>species</th>\n",
       "    </tr>\n",
       "  </thead>\n",
       "  <tbody>\n",
       "    <tr>\n",
       "      <th>0</th>\n",
       "      <td>5.1</td>\n",
       "      <td>3.5</td>\n",
       "      <td>1.4</td>\n",
       "      <td>0.2</td>\n",
       "      <td>setosa</td>\n",
       "    </tr>\n",
       "    <tr>\n",
       "      <th>1</th>\n",
       "      <td>4.9</td>\n",
       "      <td>3.0</td>\n",
       "      <td>1.4</td>\n",
       "      <td>0.2</td>\n",
       "      <td>setosa</td>\n",
       "    </tr>\n",
       "    <tr>\n",
       "      <th>2</th>\n",
       "      <td>4.7</td>\n",
       "      <td>3.2</td>\n",
       "      <td>1.3</td>\n",
       "      <td>0.2</td>\n",
       "      <td>setosa</td>\n",
       "    </tr>\n",
       "    <tr>\n",
       "      <th>3</th>\n",
       "      <td>4.6</td>\n",
       "      <td>3.1</td>\n",
       "      <td>1.5</td>\n",
       "      <td>0.2</td>\n",
       "      <td>setosa</td>\n",
       "    </tr>\n",
       "    <tr>\n",
       "      <th>4</th>\n",
       "      <td>5.0</td>\n",
       "      <td>3.6</td>\n",
       "      <td>1.4</td>\n",
       "      <td>0.2</td>\n",
       "      <td>setosa</td>\n",
       "    </tr>\n",
       "  </tbody>\n",
       "</table>\n",
       "</div>"
      ],
      "text/plain": [
       "   sepalLength  sepalWidth  petalLength  petalWidth species\n",
       "0          5.1         3.5          1.4         0.2  setosa\n",
       "1          4.9         3.0          1.4         0.2  setosa\n",
       "2          4.7         3.2          1.3         0.2  setosa\n",
       "3          4.6         3.1          1.5         0.2  setosa\n",
       "4          5.0         3.6          1.4         0.2  setosa"
      ]
     },
     "execution_count": 79,
     "metadata": {},
     "output_type": "execute_result"
    }
   ],
   "source": [
    "# import dependency\n",
    "import requests\n",
    "\n",
    "url = \"https://raw.githubusercontent.com/gouravsinghbais/Accessing-Data-in-Jupyter/master/Dataset/iris.json\"\n",
    "response = requests.get(url)\n",
    "\n",
    "print(response.status_code)\n",
    "print(response.json())\n",
    "\n",
    "res = pd.DataFrame(response.json())\n",
    "res.head()"
   ]
  },
  {
   "cell_type": "markdown",
   "id": "7bf4e6aa",
   "metadata": {},
   "source": [
    "## Accessing Data with APIs with Credentials"
   ]
  },
  {
   "cell_type": "code",
   "execution_count": 81,
   "id": "65bf5cff",
   "metadata": {},
   "outputs": [],
   "source": [
    "# required dependencies\n",
    "import requests\n",
    "\n",
    "parameters = {\n",
    "    \"personal_api_key\": \"YOUR_API_KEY\", \n",
    "    \"date\": \"2021-09-22\"\n",
    "}\n",
    "\n",
    "response = requests.get(url, params = parameters)\n",
    "    \n",
    "print(response.status_code)\n",
    "print(response.json())\n",
    "    \n",
    "res = pd.DataFrame(response.json())\n",
    "res.head()"
   ]
  },
  {
   "cell_type": "markdown",
   "id": "4543e1e2",
   "metadata": {},
   "source": [
    "# Accessing Data with Dataset Access Libraries"
   ]
  },
  {
   "cell_type": "markdown",
   "id": "f341324f",
   "metadata": {},
   "source": [
    "## Accessing Data from Kaggle"
   ]
  },
  {
   "cell_type": "code",
   "execution_count": null,
   "id": "3aa64e36",
   "metadata": {},
   "outputs": [],
   "source": [
    "! pip install kaggle \n",
    "\n",
    "# Also make sure to download kaggle.json from Kaggle. "
   ]
  },
  {
   "cell_type": "code",
   "execution_count": 24,
   "id": "849d8c72",
   "metadata": {},
   "outputs": [
    {
     "name": "stdout",
     "output_type": "stream",
     "text": [
      "Warning: Your Kaggle API key is readable by other users on this system! To fix this, you can run 'chmod 600 /Users/gouravsinghbais/.kaggle/kaggle.json'\n"
     ]
    }
   ],
   "source": [
    "# authenticate \n",
    "from kaggle.api.kaggle_api_extended import KaggleApi\n",
    "api = KaggleApi()\n",
    "api.authenticate()"
   ]
  },
  {
   "cell_type": "code",
   "execution_count": 25,
   "id": "b65c67f9",
   "metadata": {},
   "outputs": [
    {
     "data": {
      "text/plain": [
       "[https://www.kaggle.com/competitions/titanic,\n",
       " https://www.kaggle.com/competitions/house-prices-advanced-regression-techniques,\n",
       " https://www.kaggle.com/competitions/spaceship-titanic,\n",
       " https://www.kaggle.com/competitions/digit-recognizer,\n",
       " https://www.kaggle.com/competitions/nlp-getting-started,\n",
       " https://www.kaggle.com/competitions/connectx,\n",
       " https://www.kaggle.com/competitions/tpu-getting-started,\n",
       " https://www.kaggle.com/competitions/store-sales-time-series-forecasting,\n",
       " https://www.kaggle.com/competitions/gan-getting-started,\n",
       " https://www.kaggle.com/competitions/contradictory-my-dear-watson]"
      ]
     },
     "execution_count": 25,
     "metadata": {},
     "output_type": "execute_result"
    }
   ],
   "source": [
    "# list competitions\n",
    "api.competitions_list(category='gettingStarted')"
   ]
  },
  {
   "cell_type": "code",
   "execution_count": 29,
   "id": "794b8638",
   "metadata": {},
   "outputs": [
    {
     "data": {
      "text/plain": [
       "[test.csv, train.csv, gender_submission.csv]"
      ]
     },
     "execution_count": 29,
     "metadata": {},
     "output_type": "execute_result"
    }
   ],
   "source": [
    "# choose a specific competition\n",
    "api.competition_list_files('titanic')"
   ]
  },
  {
   "cell_type": "code",
   "execution_count": 30,
   "id": "2591982f",
   "metadata": {},
   "outputs": [],
   "source": [
    "# list data of a competition\n",
    "api.competition_download_files('titanic')"
   ]
  },
  {
   "cell_type": "code",
   "execution_count": 32,
   "id": "9c37785d",
   "metadata": {},
   "outputs": [],
   "source": [
    "from zipfile import ZipFile\n",
    "zf = ZipFile('titanic.zip')\n",
    "zf.extractall('data/') #save files in selected folder\n",
    "zf.close()"
   ]
  },
  {
   "cell_type": "code",
   "execution_count": 33,
   "id": "df83102c",
   "metadata": {},
   "outputs": [
    {
     "data": {
      "text/html": [
       "<div>\n",
       "<style scoped>\n",
       "    .dataframe tbody tr th:only-of-type {\n",
       "        vertical-align: middle;\n",
       "    }\n",
       "\n",
       "    .dataframe tbody tr th {\n",
       "        vertical-align: top;\n",
       "    }\n",
       "\n",
       "    .dataframe thead th {\n",
       "        text-align: right;\n",
       "    }\n",
       "</style>\n",
       "<table border=\"1\" class=\"dataframe\">\n",
       "  <thead>\n",
       "    <tr style=\"text-align: right;\">\n",
       "      <th></th>\n",
       "      <th>PassengerId</th>\n",
       "      <th>Survived</th>\n",
       "      <th>Pclass</th>\n",
       "      <th>Name</th>\n",
       "      <th>Sex</th>\n",
       "      <th>Age</th>\n",
       "      <th>SibSp</th>\n",
       "      <th>Parch</th>\n",
       "      <th>Ticket</th>\n",
       "      <th>Fare</th>\n",
       "      <th>Cabin</th>\n",
       "      <th>Embarked</th>\n",
       "    </tr>\n",
       "  </thead>\n",
       "  <tbody>\n",
       "    <tr>\n",
       "      <th>0</th>\n",
       "      <td>1</td>\n",
       "      <td>0</td>\n",
       "      <td>3</td>\n",
       "      <td>Braund, Mr. Owen Harris</td>\n",
       "      <td>male</td>\n",
       "      <td>22.0</td>\n",
       "      <td>1</td>\n",
       "      <td>0</td>\n",
       "      <td>A/5 21171</td>\n",
       "      <td>7.2500</td>\n",
       "      <td>NaN</td>\n",
       "      <td>S</td>\n",
       "    </tr>\n",
       "    <tr>\n",
       "      <th>1</th>\n",
       "      <td>2</td>\n",
       "      <td>1</td>\n",
       "      <td>1</td>\n",
       "      <td>Cumings, Mrs. John Bradley (Florence Briggs Th...</td>\n",
       "      <td>female</td>\n",
       "      <td>38.0</td>\n",
       "      <td>1</td>\n",
       "      <td>0</td>\n",
       "      <td>PC 17599</td>\n",
       "      <td>71.2833</td>\n",
       "      <td>C85</td>\n",
       "      <td>C</td>\n",
       "    </tr>\n",
       "    <tr>\n",
       "      <th>2</th>\n",
       "      <td>3</td>\n",
       "      <td>1</td>\n",
       "      <td>3</td>\n",
       "      <td>Heikkinen, Miss. Laina</td>\n",
       "      <td>female</td>\n",
       "      <td>26.0</td>\n",
       "      <td>0</td>\n",
       "      <td>0</td>\n",
       "      <td>STON/O2. 3101282</td>\n",
       "      <td>7.9250</td>\n",
       "      <td>NaN</td>\n",
       "      <td>S</td>\n",
       "    </tr>\n",
       "    <tr>\n",
       "      <th>3</th>\n",
       "      <td>4</td>\n",
       "      <td>1</td>\n",
       "      <td>1</td>\n",
       "      <td>Futrelle, Mrs. Jacques Heath (Lily May Peel)</td>\n",
       "      <td>female</td>\n",
       "      <td>35.0</td>\n",
       "      <td>1</td>\n",
       "      <td>0</td>\n",
       "      <td>113803</td>\n",
       "      <td>53.1000</td>\n",
       "      <td>C123</td>\n",
       "      <td>S</td>\n",
       "    </tr>\n",
       "    <tr>\n",
       "      <th>4</th>\n",
       "      <td>5</td>\n",
       "      <td>0</td>\n",
       "      <td>3</td>\n",
       "      <td>Allen, Mr. William Henry</td>\n",
       "      <td>male</td>\n",
       "      <td>35.0</td>\n",
       "      <td>0</td>\n",
       "      <td>0</td>\n",
       "      <td>373450</td>\n",
       "      <td>8.0500</td>\n",
       "      <td>NaN</td>\n",
       "      <td>S</td>\n",
       "    </tr>\n",
       "  </tbody>\n",
       "</table>\n",
       "</div>"
      ],
      "text/plain": [
       "   PassengerId  Survived  Pclass  \\\n",
       "0            1         0       3   \n",
       "1            2         1       1   \n",
       "2            3         1       3   \n",
       "3            4         1       1   \n",
       "4            5         0       3   \n",
       "\n",
       "                                                Name     Sex   Age  SibSp  \\\n",
       "0                            Braund, Mr. Owen Harris    male  22.0      1   \n",
       "1  Cumings, Mrs. John Bradley (Florence Briggs Th...  female  38.0      1   \n",
       "2                             Heikkinen, Miss. Laina  female  26.0      0   \n",
       "3       Futrelle, Mrs. Jacques Heath (Lily May Peel)  female  35.0      1   \n",
       "4                           Allen, Mr. William Henry    male  35.0      0   \n",
       "\n",
       "   Parch            Ticket     Fare Cabin Embarked  \n",
       "0      0         A/5 21171   7.2500   NaN        S  \n",
       "1      0          PC 17599  71.2833   C85        C  \n",
       "2      0  STON/O2. 3101282   7.9250   NaN        S  \n",
       "3      0            113803  53.1000  C123        S  \n",
       "4      0            373450   8.0500   NaN        S  "
      ]
     },
     "execution_count": 33,
     "metadata": {},
     "output_type": "execute_result"
    }
   ],
   "source": [
    "titanic_data = pd.read_csv('data/train.csv')\n",
    "titanic_data.head()"
   ]
  },
  {
   "cell_type": "markdown",
   "id": "cd8be671",
   "metadata": {},
   "source": [
    "## Accessing Data from Pandas_datareader"
   ]
  },
  {
   "cell_type": "code",
   "execution_count": null,
   "id": "3b2406d2",
   "metadata": {},
   "outputs": [],
   "source": [
    "! pip install pandas_datareader"
   ]
  },
  {
   "cell_type": "code",
   "execution_count": 57,
   "id": "450c7bca",
   "metadata": {},
   "outputs": [
    {
     "name": "stdout",
     "output_type": "stream",
     "text": [
      "[*********************100%***********************]  1 of 1 completed\n"
     ]
    },
    {
     "data": {
      "text/html": [
       "<div>\n",
       "<style scoped>\n",
       "    .dataframe tbody tr th:only-of-type {\n",
       "        vertical-align: middle;\n",
       "    }\n",
       "\n",
       "    .dataframe tbody tr th {\n",
       "        vertical-align: top;\n",
       "    }\n",
       "\n",
       "    .dataframe thead th {\n",
       "        text-align: right;\n",
       "    }\n",
       "</style>\n",
       "<table border=\"1\" class=\"dataframe\">\n",
       "  <thead>\n",
       "    <tr style=\"text-align: right;\">\n",
       "      <th></th>\n",
       "      <th>Date</th>\n",
       "      <th>Open</th>\n",
       "      <th>High</th>\n",
       "      <th>Low</th>\n",
       "      <th>Close</th>\n",
       "      <th>Adj Close</th>\n",
       "      <th>Volume</th>\n",
       "    </tr>\n",
       "  </thead>\n",
       "  <tbody>\n",
       "    <tr>\n",
       "      <th>0</th>\n",
       "      <td>2019-01-02</td>\n",
       "      <td>13.64</td>\n",
       "      <td>13.69</td>\n",
       "      <td>13.05</td>\n",
       "      <td>13.10</td>\n",
       "      <td>11.689918</td>\n",
       "      <td>16483400</td>\n",
       "    </tr>\n",
       "    <tr>\n",
       "      <th>1</th>\n",
       "      <td>2019-01-03</td>\n",
       "      <td>13.30</td>\n",
       "      <td>13.34</td>\n",
       "      <td>12.81</td>\n",
       "      <td>13.00</td>\n",
       "      <td>11.600680</td>\n",
       "      <td>19135900</td>\n",
       "    </tr>\n",
       "    <tr>\n",
       "      <th>2</th>\n",
       "      <td>2019-01-04</td>\n",
       "      <td>12.89</td>\n",
       "      <td>13.17</td>\n",
       "      <td>12.66</td>\n",
       "      <td>13.09</td>\n",
       "      <td>11.680993</td>\n",
       "      <td>17190100</td>\n",
       "    </tr>\n",
       "    <tr>\n",
       "      <th>3</th>\n",
       "      <td>2019-01-07</td>\n",
       "      <td>13.26</td>\n",
       "      <td>13.29</td>\n",
       "      <td>12.89</td>\n",
       "      <td>12.92</td>\n",
       "      <td>11.529292</td>\n",
       "      <td>12280400</td>\n",
       "    </tr>\n",
       "    <tr>\n",
       "      <th>4</th>\n",
       "      <td>2019-01-08</td>\n",
       "      <td>12.77</td>\n",
       "      <td>12.81</td>\n",
       "      <td>12.20</td>\n",
       "      <td>12.34</td>\n",
       "      <td>11.011722</td>\n",
       "      <td>26759600</td>\n",
       "    </tr>\n",
       "  </tbody>\n",
       "</table>\n",
       "</div>"
      ],
      "text/plain": [
       "        Date   Open   High    Low  Close  Adj Close    Volume\n",
       "0 2019-01-02  13.64  13.69  13.05  13.10  11.689918  16483400\n",
       "1 2019-01-03  13.30  13.34  12.81  13.00  11.600680  19135900\n",
       "2 2019-01-04  12.89  13.17  12.66  13.09  11.680993  17190100\n",
       "3 2019-01-07  13.26  13.29  12.89  12.92  11.529292  12280400\n",
       "4 2019-01-08  12.77  12.81  12.20  12.34  11.011722  26759600"
      ]
     },
     "execution_count": 57,
     "metadata": {},
     "output_type": "execute_result"
    }
   ],
   "source": [
    "# import dependency\n",
    "from pandas_datareader import data\n",
    "import datetime as dt\n",
    "\n",
    "# access gold price between 2019-01-01 to till date \n",
    "zm = data.get_data_yahoo(\n",
    "    \"GOLD\",\n",
    "    start='2019-1-1',\n",
    "    end=dt.datetime.today()\n",
    ").reset_index()\n",
    "\n",
    "# show the first few rows of data\n",
    "zm.head()"
   ]
  },
  {
   "cell_type": "code",
   "execution_count": null,
   "id": "61d594b5",
   "metadata": {},
   "outputs": [],
   "source": []
  }
 ],
 "metadata": {
  "kernelspec": {
   "display_name": "Python 3 (ipykernel)",
   "language": "python",
   "name": "python3"
  },
  "language_info": {
   "codemirror_mode": {
    "name": "ipython",
    "version": 3
   },
   "file_extension": ".py",
   "mimetype": "text/x-python",
   "name": "python",
   "nbconvert_exporter": "python",
   "pygments_lexer": "ipython3",
   "version": "3.11.2"
  }
 },
 "nbformat": 4,
 "nbformat_minor": 5
}
